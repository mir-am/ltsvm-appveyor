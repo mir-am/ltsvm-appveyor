{
 "cells": [
  {
   "cell_type": "markdown",
   "metadata": {},
   "source": [
    "# Step-by-Step guide on How to Use Multi-class TwinSVM on Wine Dataset."
   ]
  },
  {
   "cell_type": "markdown",
   "metadata": {},
   "source": [
    "**Note:** Before running this notebook, make sure that LightTwinSVM program is installed."
   ]
  },
  {
   "cell_type": "markdown",
   "metadata": {},
   "source": [
    "## Read datatset"
   ]
  },
  {
   "cell_type": "markdown",
   "metadata": {},
   "source": [
    "For this tutorial, Wine dataset will be used. However, you can use your own dataset by changing following path. <br />\n",
    "For reading CSV file, pandas package is used. <br />\n",
    "**Note:** Please make sure that your dataset is comptabile with the [LightTwinSVM's dataset format](https://github.com/mir-am/LightTwinSVM#dataset-format)."
   ]
  },
  {
   "cell_type": "code",
   "execution_count": 1,
   "metadata": {},
   "outputs": [
    {
     "name": "stderr",
     "output_type": "stream",
     "text": [
      "/usr/lib/python3.5/importlib/_bootstrap.py:222: RuntimeWarning: numpy.dtype size changed, may indicate binary incompatibility. Expected 96, got 88\n",
      "  return f(*args, **kwds)\n",
      "/usr/lib/python3.5/importlib/_bootstrap.py:222: RuntimeWarning: numpy.dtype size changed, may indicate binary incompatibility. Expected 96, got 88\n",
      "  return f(*args, **kwds)\n"
     ]
    },
    {
     "data": {
      "text/html": [
       "<div>\n",
       "<style scoped>\n",
       "    .dataframe tbody tr th:only-of-type {\n",
       "        vertical-align: middle;\n",
       "    }\n",
       "\n",
       "    .dataframe tbody tr th {\n",
       "        vertical-align: top;\n",
       "    }\n",
       "\n",
       "    .dataframe thead th {\n",
       "        text-align: right;\n",
       "    }\n",
       "</style>\n",
       "<table border=\"1\" class=\"dataframe\">\n",
       "  <thead>\n",
       "    <tr style=\"text-align: right;\">\n",
       "      <th></th>\n",
       "      <th>class</th>\n",
       "      <th>F1</th>\n",
       "      <th>F2</th>\n",
       "      <th>F3</th>\n",
       "      <th>F4</th>\n",
       "      <th>F5</th>\n",
       "      <th>F6</th>\n",
       "      <th>F7</th>\n",
       "      <th>F8</th>\n",
       "      <th>F9</th>\n",
       "      <th>F10</th>\n",
       "      <th>F11</th>\n",
       "      <th>F12</th>\n",
       "      <th>F13</th>\n",
       "    </tr>\n",
       "  </thead>\n",
       "  <tbody>\n",
       "    <tr>\n",
       "      <th>0</th>\n",
       "      <td>1</td>\n",
       "      <td>1.518613</td>\n",
       "      <td>-0.562250</td>\n",
       "      <td>0.232053</td>\n",
       "      <td>-1.169593</td>\n",
       "      <td>1.913905</td>\n",
       "      <td>0.808997</td>\n",
       "      <td>1.034819</td>\n",
       "      <td>-0.659563</td>\n",
       "      <td>1.224884</td>\n",
       "      <td>0.251717</td>\n",
       "      <td>0.362177</td>\n",
       "      <td>1.847920</td>\n",
       "      <td>1.013009</td>\n",
       "    </tr>\n",
       "    <tr>\n",
       "      <th>1</th>\n",
       "      <td>1</td>\n",
       "      <td>0.246290</td>\n",
       "      <td>-0.499413</td>\n",
       "      <td>-0.827996</td>\n",
       "      <td>-2.490847</td>\n",
       "      <td>0.018145</td>\n",
       "      <td>0.568648</td>\n",
       "      <td>0.733629</td>\n",
       "      <td>-0.820719</td>\n",
       "      <td>-0.544721</td>\n",
       "      <td>-0.293321</td>\n",
       "      <td>0.406051</td>\n",
       "      <td>1.113449</td>\n",
       "      <td>0.965242</td>\n",
       "    </tr>\n",
       "    <tr>\n",
       "      <th>2</th>\n",
       "      <td>1</td>\n",
       "      <td>0.196879</td>\n",
       "      <td>0.021231</td>\n",
       "      <td>1.109334</td>\n",
       "      <td>-0.268738</td>\n",
       "      <td>0.088358</td>\n",
       "      <td>0.808997</td>\n",
       "      <td>1.215533</td>\n",
       "      <td>-0.498407</td>\n",
       "      <td>2.135968</td>\n",
       "      <td>0.269020</td>\n",
       "      <td>0.318304</td>\n",
       "      <td>0.788587</td>\n",
       "      <td>1.395148</td>\n",
       "    </tr>\n",
       "    <tr>\n",
       "      <th>3</th>\n",
       "      <td>1</td>\n",
       "      <td>1.691550</td>\n",
       "      <td>-0.346811</td>\n",
       "      <td>0.487926</td>\n",
       "      <td>-0.809251</td>\n",
       "      <td>0.930918</td>\n",
       "      <td>2.491446</td>\n",
       "      <td>1.466525</td>\n",
       "      <td>-0.981875</td>\n",
       "      <td>1.032155</td>\n",
       "      <td>1.186068</td>\n",
       "      <td>-0.427544</td>\n",
       "      <td>1.184071</td>\n",
       "      <td>2.334574</td>\n",
       "    </tr>\n",
       "    <tr>\n",
       "      <th>4</th>\n",
       "      <td>1</td>\n",
       "      <td>0.295700</td>\n",
       "      <td>0.227694</td>\n",
       "      <td>1.840403</td>\n",
       "      <td>0.451946</td>\n",
       "      <td>1.281985</td>\n",
       "      <td>0.808997</td>\n",
       "      <td>0.663351</td>\n",
       "      <td>0.226796</td>\n",
       "      <td>0.401404</td>\n",
       "      <td>-0.319276</td>\n",
       "      <td>0.362177</td>\n",
       "      <td>0.449601</td>\n",
       "      <td>-0.037874</td>\n",
       "    </tr>\n",
       "  </tbody>\n",
       "</table>\n",
       "</div>"
      ],
      "text/plain": [
       "   class        F1        F2        F3        F4        F5        F6  \\\n",
       "0      1  1.518613 -0.562250  0.232053 -1.169593  1.913905  0.808997   \n",
       "1      1  0.246290 -0.499413 -0.827996 -2.490847  0.018145  0.568648   \n",
       "2      1  0.196879  0.021231  1.109334 -0.268738  0.088358  0.808997   \n",
       "3      1  1.691550 -0.346811  0.487926 -0.809251  0.930918  2.491446   \n",
       "4      1  0.295700  0.227694  1.840403  0.451946  1.281985  0.808997   \n",
       "\n",
       "         F7        F8        F9       F10       F11       F12       F13  \n",
       "0  1.034819 -0.659563  1.224884  0.251717  0.362177  1.847920  1.013009  \n",
       "1  0.733629 -0.820719 -0.544721 -0.293321  0.406051  1.113449  0.965242  \n",
       "2  1.215533 -0.498407  2.135968  0.269020  0.318304  0.788587  1.395148  \n",
       "3  1.466525 -0.981875  1.032155  1.186068 -0.427544  1.184071  2.334574  \n",
       "4  0.663351  0.226796  0.401404 -0.319276  0.362177  0.449601 -0.037874  "
      ]
     },
     "execution_count": 1,
     "metadata": {},
     "output_type": "execute_result"
    }
   ],
   "source": [
    "import pandas as pd\n",
    "\n",
    "dataset_path = '../dataset/wine.csv'\n",
    "dataset = pd.read_csv(dataset_path)\n",
    "dataset.head()"
   ]
  },
  {
   "cell_type": "markdown",
   "metadata": {},
   "source": [
    "## Prepare training samples and class labels\n",
    "In order to improve generalization and reduce variance, we need to shuffle the samples of dataset. "
   ]
  },
  {
   "cell_type": "code",
   "execution_count": 2,
   "metadata": {},
   "outputs": [
    {
     "name": "stderr",
     "output_type": "stream",
     "text": [
      "/usr/lib/python3.5/importlib/_bootstrap.py:222: RuntimeWarning: numpy.dtype size changed, may indicate binary incompatibility. Expected 96, got 88\n",
      "  return f(*args, **kwds)\n",
      "/usr/lib/python3.5/importlib/_bootstrap.py:222: RuntimeWarning: numpy.dtype size changed, may indicate binary incompatibility. Expected 96, got 88\n",
      "  return f(*args, **kwds)\n",
      "/usr/lib/python3.5/importlib/_bootstrap.py:222: RuntimeWarning: numpy.dtype size changed, may indicate binary incompatibility. Expected 96, got 88\n",
      "  return f(*args, **kwds)\n"
     ]
    },
    {
     "data": {
      "text/html": [
       "<div>\n",
       "<style scoped>\n",
       "    .dataframe tbody tr th:only-of-type {\n",
       "        vertical-align: middle;\n",
       "    }\n",
       "\n",
       "    .dataframe tbody tr th {\n",
       "        vertical-align: top;\n",
       "    }\n",
       "\n",
       "    .dataframe thead th {\n",
       "        text-align: right;\n",
       "    }\n",
       "</style>\n",
       "<table border=\"1\" class=\"dataframe\">\n",
       "  <thead>\n",
       "    <tr style=\"text-align: right;\">\n",
       "      <th></th>\n",
       "      <th>class</th>\n",
       "      <th>F1</th>\n",
       "      <th>F2</th>\n",
       "      <th>F3</th>\n",
       "      <th>F4</th>\n",
       "      <th>F5</th>\n",
       "      <th>F6</th>\n",
       "      <th>F7</th>\n",
       "      <th>F8</th>\n",
       "      <th>F9</th>\n",
       "      <th>F10</th>\n",
       "      <th>F11</th>\n",
       "      <th>F12</th>\n",
       "      <th>F13</th>\n",
       "    </tr>\n",
       "  </thead>\n",
       "  <tbody>\n",
       "    <tr>\n",
       "      <th>59</th>\n",
       "      <td>2</td>\n",
       "      <td>-0.778980</td>\n",
       "      <td>-1.253450</td>\n",
       "      <td>-3.679162</td>\n",
       "      <td>-2.671018</td>\n",
       "      <td>-0.824415</td>\n",
       "      <td>-0.504914</td>\n",
       "      <td>-1.465058</td>\n",
       "      <td>-0.659563</td>\n",
       "      <td>-2.051513</td>\n",
       "      <td>-1.344466</td>\n",
       "      <td>0.406051</td>\n",
       "      <td>-1.118210</td>\n",
       "      <td>-0.722540</td>\n",
       "    </tr>\n",
       "    <tr>\n",
       "      <th>63</th>\n",
       "      <td>2</td>\n",
       "      <td>-0.778980</td>\n",
       "      <td>-1.082894</td>\n",
       "      <td>-0.754890</td>\n",
       "      <td>-0.148624</td>\n",
       "      <td>-0.894628</td>\n",
       "      <td>1.930629</td>\n",
       "      <td>1.074978</td>\n",
       "      <td>-1.384766</td>\n",
       "      <td>0.489009</td>\n",
       "      <td>-0.263041</td>\n",
       "      <td>1.151898</td>\n",
       "      <td>0.364855</td>\n",
       "      <td>-1.040990</td>\n",
       "    </tr>\n",
       "    <tr>\n",
       "      <th>26</th>\n",
       "      <td>1</td>\n",
       "      <td>0.480990</td>\n",
       "      <td>-0.508390</td>\n",
       "      <td>0.926567</td>\n",
       "      <td>-1.019451</td>\n",
       "      <td>-0.473348</td>\n",
       "      <td>0.889114</td>\n",
       "      <td>0.914343</td>\n",
       "      <td>-0.176095</td>\n",
       "      <td>-0.246867</td>\n",
       "      <td>-0.111642</td>\n",
       "      <td>-0.164303</td>\n",
       "      <td>0.859210</td>\n",
       "      <td>1.426993</td>\n",
       "    </tr>\n",
       "    <tr>\n",
       "      <th>51</th>\n",
       "      <td>1</td>\n",
       "      <td>1.024507</td>\n",
       "      <td>-0.616110</td>\n",
       "      <td>0.853460</td>\n",
       "      <td>-0.689137</td>\n",
       "      <td>-0.403135</td>\n",
       "      <td>0.248181</td>\n",
       "      <td>0.964541</td>\n",
       "      <td>-1.143031</td>\n",
       "      <td>1.224884</td>\n",
       "      <td>0.234414</td>\n",
       "      <td>1.239645</td>\n",
       "      <td>1.071076</td>\n",
       "      <td>1.649908</td>\n",
       "    </tr>\n",
       "    <tr>\n",
       "      <th>172</th>\n",
       "      <td>3</td>\n",
       "      <td>1.432144</td>\n",
       "      <td>0.155881</td>\n",
       "      <td>0.414820</td>\n",
       "      <td>0.151661</td>\n",
       "      <td>-0.613775</td>\n",
       "      <td>-0.985614</td>\n",
       "      <td>-1.334543</td>\n",
       "      <td>0.629686</td>\n",
       "      <td>-0.614804</td>\n",
       "      <td>2.007951</td>\n",
       "      <td>-1.480505</td>\n",
       "      <td>-1.273579</td>\n",
       "      <td>-0.276711</td>\n",
       "    </tr>\n",
       "  </tbody>\n",
       "</table>\n",
       "</div>"
      ],
      "text/plain": [
       "     class        F1        F2        F3        F4        F5        F6  \\\n",
       "59       2 -0.778980 -1.253450 -3.679162 -2.671018 -0.824415 -0.504914   \n",
       "63       2 -0.778980 -1.082894 -0.754890 -0.148624 -0.894628  1.930629   \n",
       "26       1  0.480990 -0.508390  0.926567 -1.019451 -0.473348  0.889114   \n",
       "51       1  1.024507 -0.616110  0.853460 -0.689137 -0.403135  0.248181   \n",
       "172      3  1.432144  0.155881  0.414820  0.151661 -0.613775 -0.985614   \n",
       "\n",
       "           F7        F8        F9       F10       F11       F12       F13  \n",
       "59  -1.465058 -0.659563 -2.051513 -1.344466  0.406051 -1.118210 -0.722540  \n",
       "63   1.074978 -1.384766  0.489009 -0.263041  1.151898  0.364855 -1.040990  \n",
       "26   0.914343 -0.176095 -0.246867 -0.111642 -0.164303  0.859210  1.426993  \n",
       "51   0.964541 -1.143031  1.224884  0.234414  1.239645  1.071076  1.649908  \n",
       "172 -1.334543  0.629686 -0.614804  2.007951 -1.480505 -1.273579 -0.276711  "
      ]
     },
     "execution_count": 2,
     "metadata": {},
     "output_type": "execute_result"
    }
   ],
   "source": [
    "from sklearn.utils import shuffle \n",
    "\n",
    "dataset = shuffle(dataset)\n",
    "dataset.head()"
   ]
  },
  {
   "cell_type": "markdown",
   "metadata": {},
   "source": [
    "In this step, samples and their corresponding labels is converted to Numpy arrays which is necessary for running the classifier."
   ]
  },
  {
   "cell_type": "code",
   "execution_count": 3,
   "metadata": {},
   "outputs": [
    {
     "data": {
      "text/plain": [
       "array([2, 2, 1, 1, 3, 3, 3, 3, 1, 1, 1, 1, 1, 3, 2, 1, 3, 3, 3, 2, 2, 3,\n",
       "       2, 1, 2, 2, 2, 3, 2, 2, 2, 1, 1, 1, 2, 2, 1, 1, 3, 3, 2, 1, 2, 2,\n",
       "       1, 3, 1, 3, 2, 1, 3, 3, 2, 2, 2, 1, 1, 3, 1, 2, 2, 2, 3, 1, 1, 3,\n",
       "       3, 2, 3, 1, 2, 2, 1, 2, 2, 2, 2, 3, 2, 2, 2, 1, 3, 3, 2, 2, 3, 3,\n",
       "       1, 2, 3, 1, 1, 1, 1, 3, 2, 1, 1, 1, 1, 1, 2, 1, 3, 2, 2, 2, 2, 1,\n",
       "       1, 3, 2, 2, 2, 2, 2, 1, 1, 2, 1, 2, 1, 2, 2, 2, 1, 1, 2, 3, 2, 1,\n",
       "       1, 3, 3, 1, 1, 2, 2, 3, 3, 3, 3, 1, 2, 1, 1, 2, 2, 3, 1, 2, 3, 2,\n",
       "       1, 1, 3, 2, 1, 2, 3, 2, 1, 2, 3, 3, 3, 3, 2, 2, 3, 3, 2, 2, 2, 3,\n",
       "       1, 1])"
      ]
     },
     "execution_count": 3,
     "metadata": {},
     "output_type": "execute_result"
    }
   ],
   "source": [
    "X_train = dataset.iloc[:, 1:].values # Features' values\n",
    "y_true = dataset.iloc[:, 0].values"
   ]
  },
  {
   "cell_type": "markdown",
   "metadata": {},
   "source": [
    "## Using LightTwinSVM for classification"
   ]
  },
  {
   "cell_type": "markdown",
   "metadata": {},
   "source": [
    "To use LightTwinSVM modules, its path should be added to PYTHON PATH"
   ]
  },
  {
   "cell_type": "code",
   "execution_count": 4,
   "metadata": {},
   "outputs": [],
   "source": [
    "import sys\n",
    "\n",
    "sys.path.insert(0, '../src/')"
   ]
  },
  {
   "cell_type": "markdown",
   "metadata": {},
   "source": [
    "It's time to create an instance of TwinSVM classifier"
   ]
  },
  {
   "cell_type": "code",
   "execution_count": 5,
   "metadata": {},
   "outputs": [],
   "source": [
    "import twinsvm as tsvm\n",
    "\n",
    "# Choose a kernel\n",
    "kernel = 'RBF'\n",
    "\n",
    "tsvm_model = tsvm.OVO_TSVM(kernel=kernel)"
   ]
  },
  {
   "cell_type": "markdown",
   "metadata": {},
   "source": [
    "### Specify range of hyper-parameters for grid search"
   ]
  },
  {
   "cell_type": "markdown",
   "metadata": {},
   "source": [
    "Performance of TwinSVM classifier is highly dependent upon the choice of hyper-parameters. Therefore, using a search method to find optimal values of these parameters is essential. <br />\n",
    "In this guide, C parameter is chosen from the following set:\n",
    "$$C = \\{2^{i}|i=-6,-5,\\dots, 4\\}$$"
   ]
  },
  {
   "cell_type": "code",
   "execution_count": 6,
   "metadata": {},
   "outputs": [],
   "source": [
    "c_range = {'C_1': [float(2**i) for i in range(-6, 5)],\n",
    "           'C_2': [float(2**i) for i in range(-6, 5)]}\n",
    "\n",
    "gamma_range = {'gamma': [float(2**i) for i in range(-8, 3)]} if kernel == 'RBF' else {}\n",
    "\n",
    "param_range = {**c_range, **gamma_range}"
   ]
  },
  {
   "cell_type": "markdown",
   "metadata": {},
   "source": [
    "To evaluate the classifier, K-Fold Cross validation is often used. <br />"
   ]
  },
  {
   "cell_type": "code",
   "execution_count": 7,
   "metadata": {},
   "outputs": [
    {
     "name": "stderr",
     "output_type": "stream",
     "text": [
      "/usr/lib/python3.5/importlib/_bootstrap.py:222: RuntimeWarning: numpy.dtype size changed, may indicate binary incompatibility. Expected 96, got 88\n",
      "  return f(*args, **kwds)\n"
     ]
    }
   ],
   "source": [
    "from sklearn.model_selection import GridSearchCV\n",
    "\n",
    "cv_folds = 5\n",
    "\n",
    "result = GridSearchCV(tsvm_model, param_range, cv=cv_folds, verbose=1)"
   ]
  },
  {
   "cell_type": "markdown",
   "metadata": {},
   "source": [
    "Start grid search! Based on your hardware speed, it takes about 3~4 minutes."
   ]
  },
  {
   "cell_type": "code",
   "execution_count": 8,
   "metadata": {},
   "outputs": [
    {
     "name": "stdout",
     "output_type": "stream",
     "text": [
      "Fitting 5 folds for each of 1331 candidates, totalling 6655 fits\n"
     ]
    },
    {
     "name": "stderr",
     "output_type": "stream",
     "text": [
      "[Parallel(n_jobs=1)]: Done 6655 out of 6655 | elapsed:  3.2min finished\n"
     ]
    },
    {
     "data": {
      "text/plain": [
       "GridSearchCV(cv=5, error_score='raise',\n",
       "       estimator=OVO_TSVM(C_1=1, C_2=1, gamma=1, kernel='RBF'),\n",
       "       fit_params=None, iid=True, n_jobs=1,\n",
       "       param_grid={'gamma': [0.00390625, 0.0078125, 0.015625, 0.03125, 0.0625, 0.125, 0.25, 0.5, 1.0, 2.0, 4.0], 'C_2': [0.015625, 0.03125, 0.0625, 0.125, 0.25, 0.5, 1.0, 2.0, 4.0, 8.0, 16.0], 'C_1': [0.015625, 0.03125, 0.0625, 0.125, 0.25, 0.5, 1.0, 2.0, 4.0, 8.0, 16.0]},\n",
       "       pre_dispatch='2*n_jobs', refit=True, return_train_score='warn',\n",
       "       scoring=None, verbose=1)"
      ]
     },
     "execution_count": 8,
     "metadata": {},
     "output_type": "execute_result"
    }
   ],
   "source": [
    "result.fit(X_train, y_true)"
   ]
  },
  {
   "cell_type": "markdown",
   "metadata": {},
   "source": [
    "### Evaluation of classification result"
   ]
  },
  {
   "cell_type": "markdown",
   "metadata": {},
   "source": [
    "After grid search, the best model is found and its accuracy is as follows:"
   ]
  },
  {
   "cell_type": "code",
   "execution_count": 9,
   "metadata": {},
   "outputs": [
    {
     "name": "stdout",
     "output_type": "stream",
     "text": [
      "Best score: 99.44+-1.14\n"
     ]
    }
   ],
   "source": [
    "from sklearn.metrics import accuracy_score, confusion_matrix, classification_report\n",
    "\n",
    "best_mean_score = result.cv_results_['mean_test_score'][result.best_index_]\n",
    "best_std_score = result.cv_results_['std_test_score'][result.best_index_]\n",
    "\n",
    "print(\"Best score: %.2f+-%.2f\" % (best_mean_score * 100, best_std_score * 100))"
   ]
  },
  {
   "cell_type": "markdown",
   "metadata": {},
   "source": [
    "### Confusion matrix"
   ]
  },
  {
   "cell_type": "markdown",
   "metadata": {},
   "source": [
    "To interpret the classification result, confusion matrix is a great choice."
   ]
  },
  {
   "cell_type": "code",
   "execution_count": 16,
   "metadata": {},
   "outputs": [
    {
     "data": {
      "image/png": "[encoded data removed]",
      "text/plain": [
       "<Figure size 432x288 with 2 Axes>"
      ]
     },
     "metadata": {},
     "output_type": "display_data"
    }
   ],
   "source": [
    "from misc import plt_confusion_matrix\n",
    "import numpy as np\n",
    "import matplotlib.pyplot as plt\n",
    "\n",
    "# Predict data with pre-trained model\n",
    "y_pred = result.best_estimator_.predict(X_train)\n",
    "\n",
    "cm = confusion_matrix(y_true, y_pred)\n",
    "plt_confusion_matrix(cm, np.unique(y_true))\n",
    "\n",
    "# Uncomment this if you want to save the confusion matrix\n",
    "#plt.savefig(\"Wine_cm.png\", dpi=128)"
   ]
  },
  {
   "cell_type": "markdown",
   "metadata": {},
   "source": [
    "### Full classification report "
   ]
  },
  {
   "cell_type": "markdown",
   "metadata": {},
   "source": [
    "Precision, recall and F1-measure for each class"
   ]
  },
  {
   "cell_type": "code",
   "execution_count": 11,
   "metadata": {},
   "outputs": [
    {
     "name": "stdout",
     "output_type": "stream",
     "text": [
      "             precision    recall  f1-score   support\n",
      "\n",
      "          1       1.00      1.00      1.00        59\n",
      "          2       1.00      1.00      1.00        71\n",
      "          3       1.00      1.00      1.00        48\n",
      "\n",
      "avg / total       1.00      1.00      1.00       178\n",
      "\n"
     ]
    }
   ],
   "source": [
    "print(classification_report(y_true, y_pred))"
   ]
  },
  {
   "cell_type": "code",
   "execution_count": null,
   "metadata": {},
   "outputs": [],
   "source": []
  }
 ],
 "metadata": {
  "kernelspec": {
   "display_name": "Python 3",
   "language": "python",
   "name": "python3"
  },
  "language_info": {
   "codemirror_mode": {
    "name": "ipython",
    "version": 3
   },
   "file_extension": ".py",
   "mimetype": "text/x-python",
   "name": "python",
   "nbconvert_exporter": "python",
   "pygments_lexer": "ipython3",
   "version": "3.5.2"
  }
 },
 "nbformat": 4,
 "nbformat_minor": 2
}
